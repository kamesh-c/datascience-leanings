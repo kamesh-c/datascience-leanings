{
 "cells": [
  {
   "cell_type": "markdown",
   "metadata": {},
   "source": [
    "# ARIMA Mode (Time Serions analysis)\n",
    "### Components of Time Series\n",
    " - Trend - Event happens for a period of time ( variance mean over time)\n",
    " - Seasonality - Event happens for a particular season ( or fixed Period of time)\n",
    " - Irregularity - Unexpected Event occurred ( Also called as Noice/ Residual/ random variations)\n",
    " - cyclic -  Repetitive event for specific period of time ( Much harder to predict)\n",
    "\n",
    "### When not to user time series analysis?\n",
    " - Values are constant ( if the sales is beeing for fixed for past couple of months, predicting of next month sales is not a value add on applying time series model\n",
    " - Values is the form of functions (Sign wave/ => x = f(x))\n",
    "\n",
    "### What is stationarity?\n",
    "Time series has a perticular behaviour over time, there is high probability that it will follow the same in the future\n",
    "\n",
    "#### How to remove Statinarity?\n",
    "    - Constant Mean ( Varing mean overtime aka Trend )  ( Mean is the average)\n",
    "    - Constant Variance (aka Seasonality) ( Variance is distence from the mean)\n",
    "    - Autocovariance that dose not depend on time "
   ]
  },
  {
   "cell_type": "code",
   "execution_count": null,
   "metadata": {},
   "outputs": [],
   "source": []
  }
 ],
 "metadata": {
  "kernelspec": {
   "display_name": "Python 3",
   "language": "python",
   "name": "python3"
  },
  "language_info": {
   "codemirror_mode": {
    "name": "ipython",
    "version": 3
   },
   "file_extension": ".py",
   "mimetype": "text/x-python",
   "name": "python",
   "nbconvert_exporter": "python",
   "pygments_lexer": "ipython3",
   "version": "3.7.3"
  }
 },
 "nbformat": 4,
 "nbformat_minor": 2
}
